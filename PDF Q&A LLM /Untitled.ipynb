{
 "cells": [
  {
   "cell_type": "code",
   "execution_count": 12,
   "id": "048cff45-138a-4b7c-b793-66a33c02c585",
   "metadata": {},
   "outputs": [
    {
     "name": "stdout",
     "output_type": "stream",
     "text": [
      "******\n",
      "6789\n",
      "******6789\n"
     ]
    }
   ],
   "source": [
    "card_number = 9123456789\n",
    "number_string = str(card_number)\n",
    "stars = \"*\" * (len(number_string) - 4)\n",
    "print(stars)\n",
    "last_four = number_string[-4:]\n",
    "print(last_four)\n",
    "masked = stars + last_four\n",
    "print(masked)"
   ]
  },
  {
   "cell_type": "code",
   "execution_count": null,
   "id": "ea45ded7-fa82-4379-a732-9a0b6319459d",
   "metadata": {},
   "outputs": [],
   "source": []
  },
  {
   "cell_type": "code",
   "execution_count": null,
   "id": "16e6e8b7-7f39-4943-8aaf-5c81920864a7",
   "metadata": {},
   "outputs": [],
   "source": []
  }
 ],
 "metadata": {
  "kernelspec": {
   "display_name": "Python 3 (ipykernel)",
   "language": "python",
   "name": "python3"
  },
  "language_info": {
   "codemirror_mode": {
    "name": "ipython",
    "version": 3
   },
   "file_extension": ".py",
   "mimetype": "text/x-python",
   "name": "python",
   "nbconvert_exporter": "python",
   "pygments_lexer": "ipython3",
   "version": "3.12.7"
  }
 },
 "nbformat": 4,
 "nbformat_minor": 5
}
