{
 "cells": [
  {
   "cell_type": "code",
   "execution_count": null,
   "id": "6ebef0c5-bce9-49ac-bacc-9caf92f5850b",
   "metadata": {},
   "outputs": [
    {
     "name": "stdout",
     "output_type": "stream",
     "text": [
      "Article 1: It's the Economy, Donald\n",
      "Summary: The White House maintains a non-panic stance amid deteriorating US labor and inflation data. However, despite this, some individuals in Trump's political sphere are still experiencing anxiety.\n",
      "------------------------------------------------------------\n",
      "\n",
      "Article 2: Inflation held steady in July, defying expectations for hotter price growth as tariffs come into effect\n",
      "Summary: The inflation rate for July remained steady at 2.7%, following a larger than anticipated increase in June.\n",
      "------------------------------------------------------------\n",
      "\n",
      "Article 3: Wage growth is looking bleak for white-collar workers. But there are 2 industries that are still booming.\n",
      "Summary: The latest report reflects a sluggish growth in white-collar salaries, which is lagging behind the rate of inflation. This exacerbates economic challenges for professional workers.\n",
      "------------------------------------------------------------\n",
      "\n",
      "Article 4: Trump is trying to fire a Fed governor. Here's what happened when other countries' presidents did the same thing.\n",
      "Summary: President Donald Trump's intention to oust Federal Reserve Governor, Lisa Cook, raises questions about future inflation and interest rates. The potential impact of such a decision remains uncertain.\n",
      "------------------------------------------------------------\n",
      "\n",
      "Article 5: Inflation remains elevated as Trump's tariffs take hold\n",
      "Summary: Inflation continued to rise last month, with tariffs by President Trump influencing consumer prices. The average cost of living in July increased by 2.7%, keeping inflation at a high level.\n",
      "------------------------------------------------------------\n",
      "\n"
     ]
    }
   ],
   "source": [
    "# Install required packages if not already installed\n",
    "# !pip install openai requests\n",
    "\n",
    "import requests\n",
    "import openai\n",
    "\n",
    "# Set your API keys as strings\n",
    "openai.api_key = \"your_openai_api_key_here\"   # Replace with your actual OpenAI API key\n",
    "news_api_key = \"your_news_api_key_here\"         # Replace with your actual NewsAPI key\n",
    "\n",
    "# Step 1: Fetch news articles about inflation\n",
    "url = f\"https://newsapi.org/v2/everything?q=inflation&language=en&apiKey={news_api_key}\"\n",
    "\n",
    "response = requests.get(url)\n",
    "response.raise_for_status()  # checks if request succeeded\n",
    "\n",
    "articles = response.json().get(\"articles\", [])\n",
    "\n",
    "# Step 2: Summarize each article's description using OpenAI GPT-4\n",
    "def summarize_text(text):\n",
    "    if not text:\n",
    "        return \"No content available to summarize.\"\n",
    "    response = openai.ChatCompletion.create(\n",
    "        model=\"gpt-4\",\n",
    "        messages=[\n",
    "            {\"role\": \"user\", \"content\": f\"Summarize this text in exactly 60 words:\\n\\n{text}\"}\n",
    "        ]\n",
    "    )\n",
    "    return response.choices[0].message.content.strip()\n",
    "\n",
    "# Step 3: Print summarized news for top 5 articles\n",
    "for i, article in enumerate(articles[:5]):\n",
    "    title = article.get(\"title\", \"No Title\")\n",
    "    description = article.get(\"description\") or article.get(\"content\") or \"\"\n",
    "    summary = summarize_text(description)\n",
    "    print(f\"Article {i+1}: {title}\\nSummary: {summary}\\n{'-'*60}\\n\")\n"
   ]
  },
  {
   "cell_type": "code",
   "execution_count": null,
   "id": "7c9b4ec9-575b-46fb-87c4-ef721615854e",
   "metadata": {},
   "outputs": [],
   "source": []
  }
 ],
 "metadata": {
  "kernelspec": {
   "display_name": "Python 3 (ipykernel)",
   "language": "python",
   "name": "python3"
  },
  "language_info": {
   "codemirror_mode": {
    "name": "ipython",
    "version": 3
   },
   "file_extension": ".py",
   "mimetype": "text/x-python",
   "name": "python",
   "nbconvert_exporter": "python",
   "pygments_lexer": "ipython3",
   "version": "3.12.7"
  }
 },
 "nbformat": 4,
 "nbformat_minor": 5
}
